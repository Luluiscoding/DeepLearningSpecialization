{
 "cells": [
  {
   "attachments": {},
   "cell_type": "markdown",
   "metadata": {},
   "source": [
    "**Learning objective**  \n",
    "  \n",
    "  \n",
    "In Week3, we are going to build a neural network with one hidden layer, using forward propagation and backpropagation.  \n",
    "- Describe hidden units and hidden layers  \n",
    "- Use units with a non-linear activation function, such as tanh  \n",
    "- Implement forward and backward propagation\n",
    "- Apply random initialization to your neural network\n",
    "- Increase fluency in Deep Learning notations and Neural Network --- Representations\n",
    "- Implement a 2-class classification neural network with a single hidden - layer\n",
    "- Compute the cross entropy loss  \n",
    "\n"
   ]
  },
  {
   "attachments": {},
   "cell_type": "markdown",
   "metadata": {},
   "source": [
    "# Shallow Neural Networks(NN)  \n",
    "\n",
    "## NN overview  \n",
    "\n",
    "This is a neural network\n",
    "<img src=\"images/NN overview.png\" width=\"400\">\n",
    "\n",
    "$[1], \\ [2] $ represents different layers. Also remember that $(i)$ are used to represent different training samples.  \n"
   ]
  },
  {
   "attachments": {},
   "cell_type": "markdown",
   "metadata": {},
   "source": [
    "## NN representation\n",
    "Let us firstly get familiar with some representaions of each parts in a neural networks plot."
   ]
  },
  {
   "attachments": {},
   "cell_type": "markdown",
   "metadata": {},
   "source": [
    "## Computing a Neural Networks' output\n",
    "\n",
    "Here is a single hidden layer neural network:  \n",
    "<img src=\"images/single hidden NN.png\" width=\"400\">  \n",
    "\n",
    "The following NN just do this process for several times:  \n",
    "<img src=\"images/NNseveral.png\" width=\"400\">  \n",
    "\n",
    "Let's see some computional details in this Neural Networks.  \n",
    "- Firstly, Let us see the 1st node in the 1st layer.  \n",
    "  <img src=\"images/1l1n.png\" width=\"300\">  \n",
    "  $z^{[1]}_1 = w^{[1]T}_1 \\cdot x + b^{[1]}_1$  \n",
    "  $a^{[1]}_1 = \\sigma (z^{[1]}_1)$  \n",
    "    \n",
    "  remember that in $a^{[1] \\leftarrow \\text{layer}}_{1 \\leftarrow \\text{node in layer}}$  \n",
    "- Secondly, Let us see the 2nd node in the 1st layer.  \n",
    "  <img src=\"images/1l2n.png\" width=\"300\">  \n",
    "  $z^{[1]}_2 = w^{[1]T}_2 \\cdot x + b^{[1]}_2$  \n",
    "  $a^{[1]}_2 = \\sigma (z^{[1]}_2)$  \n",
    "- Implement the same process to each node  \n",
    "  <img src=\"images/fullversion.png\" width=\"600\">  \n",
    "\n",
    "We are going to vectorize these four equations.   "
   ]
  },
  {
   "attachments": {},
   "cell_type": "markdown",
   "metadata": {},
   "source": [
    "$z^{[1]} = \\left[\\begin{array}{lll}w_1^{[1] T} & w_1^{[1] T} & w_1^{[1] T} \\\\ w_2^{[1]T} & w_2^{[1] T} & w_2^{[1] T} \\\\ w_3^{[1] T} & w_3^{[1] T} & w_3^{[1] T} \\\\ w_4^{[1] T} & w_4^{[1] T} & w_4^{[1] T}\\end{array}\\right] \\cdot \\left[\\begin{array}{l} x_1 \\\\ x_2 \\\\ x_3 \\end{array}\\right] + \\left[\\begin{array}{l} b_1^{[1]} \\\\ b_2^{[1]} \\\\ b_3^{[1]} \\\\ b_4^{[1]} \\end{array}\\right] = \\left[\\begin{array}{l} w_1^{[1] T} \\bold{x} + b_1^{[1]}\\\\ w_2^{[1] T} \\bold{x} + b_2^{[1]} \\\\ w_3^{[1] T} \\bold{x} + b_3^{[1]} \\\\ w_4^{[1] T} \\bold{x} + b_4^{[1]} \\end{array}\\right] = \\left[\\begin{array}{l} z_1^{[1]} \\\\ z_2^{[1]} \\\\ z_3^{[1]} \\\\ z_4^{[1]} \\end{array}\\right]$  \n",
    "\n",
    "$ a^{[1]} = \\left[\\begin{array}{l} a_1^{[1]} \\\\ a_2^{[1]} \\\\ a_3^{[1]} \\\\ a_4^{[1]} \\end{array}\\right] = \\sigma(z^{[1]})$"
   ]
  },
  {
   "attachments": {},
   "cell_type": "markdown",
   "metadata": {},
   "source": [
    "Based on the above equation, we can derive the learning process of the neural networks. $a^{[0]}$ layer stands for the input layer.  \n",
    "- Given input x:  \n",
    "  $z^{[1]} = W^{[1]}a^{[0]}+b^{[1]}$  \n",
    "  $a^{[1]}=\\sigma(z^{[1]})$  \n",
    "  $z^{[2]} = W^{[2]}a^{[1]}+b^{[2]}$  \n",
    "  $a^{[2]}=\\sigma(z^{[2]}) = \\hat{y}$\n"
   ]
  },
  {
   "attachments": {},
   "cell_type": "markdown",
   "metadata": {},
   "source": [
    "## Vectorizing Across Multiple Examples\n",
    "\n",
    "In this part, we will vectorize across multiple training examples. And the outcome will be quite similar to what we saw for logistic regression. Whereby stacking up different training examples in different columns of the matrix.  \n",
    "\n",
    "if we have m training examples, then:  \n",
    "  \n",
    "$  x^{(1)} \\rightarrow a^{[2](1)}=\\hat{y}^{(1)} $  \n",
    "$  x^{(2)} \\rightarrow a^{[2](2)}=\\hat{y}^{(2)} $  \n",
    "$  x^{(3)} \\rightarrow a^{[2](3)}=\\hat{y}^{(3)} $  \n",
    "$ \\vdots $  \n",
    "$  x^{(m)} \\rightarrow a^{[2](m)}=\\hat{y}^{(m)} $   \n",
    "\n",
    "$ \\text{For} \\   i=1 \\  to \\  m:$  \n",
    "$ \\qquad z^{[1](i)} = W^{[1]}x^{[1]}+b^{[1]}$   \n",
    "$ \\qquad a^{[1](i)}=\\sigma(z^{[1](i)})$  \n",
    "$ \\qquad z^{[2](i)} = W^{[2]}x^{[2]}+b^{[2]}$  \n",
    "$ \\qquad a^{[2](i)}=\\sigma(z^{[2](i)}) $  \n",
    "\n",
    "So, we are going to vectorize the above process to avoid the for loop.  \n",
    "\n"
   ]
  },
  {
   "attachments": {},
   "cell_type": "markdown",
   "metadata": {},
   "source": [
    "Recall that we define the $X$ matrix as following, which is a $[n_x,m]$ matrix:  \n",
    "\n",
    "$X=\\left[\\begin{array}{llll}x^{(1)} & x^{(2)} & \\cdots & x^{(m)} \\\\ x^{(1)} & x^{(2)} & \\cdots & x^{(m)} \\\\ \\vdots & \\vdots & \\vdots & \\vdots \\\\ x^{(1)} & x^{(2)} & \\cdots & x^{(m)}\\end{array}\\right] $ \n"
   ]
  },
  {
   "attachments": {},
   "cell_type": "markdown",
   "metadata": {},
   "source": [
    "What we need to do is:  \n",
    "  \n",
    "\n",
    "$Z^{[1]}=W^{[1]}X+b^{[1]}$  \n",
    "$A^{[1]}= \\sigma(Z{[1]})$  \n",
    "$Z^{[2]}=W^{[2]}X+b^{[2]}$  \n",
    "$A^{[2]}= \\sigma(Z{[2]})$  \n",
    "\n",
    "Remember that $W$ stay the same for the same layer.\n",
    "  \n",
    "For example, $Z^{[1]}$ stands for to following matrix:  \n",
    "  \n",
    "$Z^{[1]}=\\left[\\begin{array}{llll}Z^{[1](1)} & Z^{[1](2)} & \\cdots & Z^{[1](m)} \\\\ Z^{[1](1)} & Z^{[1](2)} & \\cdots & Z^{[1](m)} \\\\ \\vdots & \\vdots & \\vdots & \\vdots \\\\ Z^{[1](1)} & Z^{[1](2)} & \\cdots & Z^{[1](m)}\\end{array}\\right] $ "
   ]
  },
  {
   "attachments": {},
   "cell_type": "markdown",
   "metadata": {},
   "source": [
    "## Activation functions\n",
    "\n",
    "### different activation functions  \n",
    "\n",
    "The sigmoid function can be replaced by other non-linear function $ g (z^{[i]}) $ like tanh function ( $tanh(x) = \\frac{e^x - e^{-x}}{e^x + e^{-x}}$ ). Sometimes, different layers have different activation function."
   ]
  },
  {
   "cell_type": "code",
   "execution_count": 14,
   "metadata": {},
   "outputs": [],
   "source": [
    "#region Hidden code\n",
    "import numpy as np\n",
    "import matplotlib.pyplot as plt\n",
    "#endregion"
   ]
  },
  {
   "cell_type": "code",
   "execution_count": 12,
   "metadata": {},
   "outputs": [
    {
     "data": {
      "image/png": "[encoded data removed]",
      "text/plain": [
       "<Figure size 1000x200 with 2 Axes>"
      ]
     },
     "metadata": {},
     "output_type": "display_data"
    }
   ],
   "source": [
    "#region Hidden code\n",
    "# Generate values for x\n",
    "x = np.linspace(-5, 5, 100)\n",
    "\n",
    "# Calculate y values for sigmoid and tanh functions\n",
    "y_sigmoid = 1 / (1 + np.exp(-x))\n",
    "y_tanh = np.tanh(x)\n",
    "\n",
    "# Create a figure with two subplots\n",
    "fig, axs = plt.subplots(1, 2, figsize=(10, 2))\n",
    "\n",
    "# Plot sigmoid function in the first subplot\n",
    "axs[0].plot(x, y_sigmoid)\n",
    "axs[0].set_title('Sigmoid Function')\n",
    "axs[0].set_xlabel('x')\n",
    "axs[0].set_ylabel('y')\n",
    "axs[0].grid()\n",
    "\n",
    "# Plot tanh function in the second subplot\n",
    "axs[1].plot(x, y_tanh)\n",
    "axs[1].set_title('Tanh Function')\n",
    "axs[1].set_xlabel('x')\n",
    "axs[1].set_ylabel('y')\n",
    "axs[1].grid()\n",
    "\n",
    "# Show the plot\n",
    "plt.show()\n",
    "#endregion"
   ]
  },
  {
   "attachments": {},
   "cell_type": "markdown",
   "metadata": {},
   "source": [
    "Sigmoid outputs a value between 0 and 1 which makes it a very good choice for binary classification. You can classify as 0 if the output is less than 0.5 and classify as 1 if the output is more than 0.5. It can be done with tanh as well but it is less convenient as the output is between -1 and 1.  \n",
    "\n",
    "One of the downsides of both the sigmoid function and the tan h function is that if z is either very large or very small, then the gradient of the derivative of the slope of this function becomes very small. So if z is very large or z is very small, the slope of the function either ends up being close to zero and so this can slow down gradient descent. Another choice is ReLu function.  "
   ]
  },
  {
   "cell_type": "code",
   "execution_count": 20,
   "metadata": {},
   "outputs": [
    {
     "data": {
      "image/png": "[encoded data removed]",
      "text/plain": [
       "<Figure size 400x300 with 1 Axes>"
      ]
     },
     "metadata": {},
     "output_type": "display_data"
    }
   ],
   "source": [
    "#region Hidden code\n",
    "\n",
    "# Define the ReLU function\n",
    "def relu(x):\n",
    "    return np.maximum(0, x)\n",
    "\n",
    "# Create a range of x values\n",
    "x = np.linspace(-5, 5, 100)\n",
    "plt.figure(figsize=(4,3))\n",
    "# Plot the ReLU function\n",
    "plt.plot(x, relu(x))\n",
    "\n",
    "# Add the formula as the legend\n",
    "plt.legend([r'$ReLU(x) = \\max(0,x)$'])\n",
    "plt.xlabel('x')\n",
    "plt.ylabel('ReLU(x)')\n",
    "plt.title('Rectified Linear Unit (ReLU)')\n",
    "\n",
    "# Show the plot\n",
    "plt.show()\n",
    "\n",
    "#endregion"
   ]
  },
  {
   "attachments": {},
   "cell_type": "markdown",
   "metadata": {},
   "source": [
    "One disadvantage of the ReLU is that the derivative is equal to zero when z is negative. There is another activation function called Leaky ReLU function ($\\alpha$ in the next plot equal to 0.1)."
   ]
  },
  {
   "cell_type": "code",
   "execution_count": 26,
   "metadata": {},
   "outputs": [
    {
     "data": {
      "image/png": "[encoded data removed]",
      "text/plain": [
       "<Figure size 400x300 with 1 Axes>"
      ]
     },
     "metadata": {},
     "output_type": "display_data"
    }
   ],
   "source": [
    "#region Hidden code\n",
    "# Define the leaky ReLU function\n",
    "def leaky_relu(x, alpha=0.1):\n",
    "    return np.maximum(alpha * x, x)\n",
    "\n",
    "# Create a range of x values\n",
    "x = np.linspace(-5, 3, 100)\n",
    "\n",
    "# Set the figure size\n",
    "plt.figure(figsize=(4, 3))\n",
    "\n",
    "# Plot the leaky ReLU function\n",
    "plt.plot(x, leaky_relu(x))\n",
    "\n",
    "# Add the formula as the legend\n",
    "plt.legend([r'$LeakyReLU(x) = \\max(\\alpha x, x)$'], loc='upper left')\n",
    "\n",
    "# Add axis labels and a title\n",
    "plt.xlabel('x')\n",
    "plt.ylabel('LeakyReLU(x)')\n",
    "plt.title('Leaky Rectified Linear Unit (Leaky ReLU)')\n",
    "\n",
    "# Show the plot\n",
    "plt.show()\n",
    "#endregion\n"
   ]
  },
  {
   "attachments": {},
   "cell_type": "markdown",
   "metadata": {},
   "source": [
    " the advantage of both the $\\text{ReLU}$ and the $\\text{Leaky ReLU}$ is that for a lot of the space of z, the derivative of the activation function, the slope of the activation function is very different from zero. And so in practice, using the $\\text{ReLU}$ activation function, your neural network will often learn much faster than when using the $\\text{tanh}$ or the $\\text{sigmoid}$ activation function. And the main reason is that there's less of this effect of the slope of the function going to zero, which slows down learning. "
   ]
  },
  {
   "attachments": {},
   "cell_type": "markdown",
   "metadata": {},
   "source": [
    "### why do we need **non-linear** activation function?\n",
    "\n",
    "A brief conclusion:  \n",
    "It turns out that if you have a linear activation function here and a sigmoid function here, then this model is no more expressive than standard logistic regression without any hidden layer. The one place might use a linear activation function is usually in the output layer."
   ]
  },
  {
   "attachments": {},
   "cell_type": "markdown",
   "metadata": {},
   "source": [
    "## Derivative of activation function\n",
    "\n",
    "Here are derivatives of the 3 functions we mentioned.  \n",
    "\n",
    "- $Sigmoid$ function:  \n",
    "$\\begin{array}{l}g(z)=\\operatorname{sigmoid}(z)=\\frac{1}{1+e^{-z}} \\\\ g^{\\prime}(z)=g(z)(1-g(z)) \\\\ \\text {if } a=\\operatorname{sigmoid}(z) \\text{,} \\quad g^{\\prime}(z)=a(1-a)\\end{array}$  \n",
    "  \n",
    "- $tanh$ function:  \n",
    "$\\begin{array}{l}g(z)=\\tanh (z)=\\frac{e^z-e^{-z}}{e^z+e^{-z}} \\\\ g^{\\prime}(z)=1-(\\tanh (z))^2 \\\\ \\text {if } a=\\tanh (z), \\quad g^{\\prime}(z)=1-a^2\\end{array}$\n",
    "    \n",
    "- $ReLU$ function:  \n",
    "$\\begin{array}{l}g(z)=\\operatorname{ReLU}(z)=\\max \\left(0, z \\right) \\\\ g^{\\prime}(z)=\\left\\{\\begin{array}{l}0, \\text { if } z<0 . \\\\ 1, \\text { if } z > 0 . \\\\ \\text {undefined, if } z=0 .\\end{array}\\right. \\end{array}$\n",
    "\n",
    "- $Leaky \\  ReLU$ function:  \n",
    "$\\begin{array}{l}g(z)= \\max \\left(0.01z, z \\right) \\\\ g^{\\prime}(z)=\\left\\{\\begin{array}{l}0.01, \\text { if } z<0 . \\\\ 1, \\text { if } z > 0 . \\\\ \\text {undefined, if } z=0 .\\end{array}\\right. \\end{array}$"
   ]
  },
  {
   "attachments": {},
   "cell_type": "markdown",
   "metadata": {},
   "source": [
    "## Gradient Desent for Neural Networks"
   ]
  },
  {
   "attachments": {},
   "cell_type": "markdown",
   "metadata": {},
   "source": [
    "| Parameters: | $w^{[1]}$ | $b^{[1]}$ | $w^{[2]}$ | $b^{[2]}$ |\n",
    "| :---: | :---: | :---: | :---: | :---: |\n",
    "| dimensions: | $\\left(n^{[1]}, n^{[2]}\\right)$ | $\\left(n^{[2]}, 1\\right)$ | $\\left(n^{[2]}, n^{(n)}\\right)$ | $\\left(n^{[2]}, 1\\right)$ |  \n",
    "  \n",
    "Cost function: $J\\left(w^{[1]}, b^{[1]}, w^{[2]}, b^{[2]}\\right)=\\frac{1}{m} \\sum_{i=1}^m L(\\hat{y}, y)$   \n",
    "\n",
    "Rember that we initialize parameters randomly rather than all zeros. <span style=\"color: red\">**Let us see what happens if we initialize weights to zero.**</span>  "
   ]
  },
  {
   "attachments": {},
   "cell_type": "markdown",
   "metadata": {},
   "source": [
    "Repeat the following process:  \n",
    "  \n",
    "compute predictions $\\hat{y}^{(i)}, \\ [-1, m-1] \\\\ d w^{[1]}=\\frac{\\partial J}{\\partial w^{[1]}}, d b^{[1]}=\\frac{\\partial}{\\partial b^{[1]}}, \\  \\cdots \\\\ w^{[1]}=w^{[1]}-\\alpha d w^{[1]} \\\\ b^{[1]}=b^{[1]}-\\alpha d b^{[1]} \\\\ w^{[2]}=\\cdots, b^{[2]}=\\cdots$\n"
   ]
  },
  {
   "attachments": {},
   "cell_type": "markdown",
   "metadata": {},
   "source": [
    "**formulas for computing derivatives**  \n",
    "Forward propagation:  \n",
    "$\n",
    "\\begin{array}{l}\n",
    "Z^{[1]}=W^{[1]} X+b^{[1]} \\\\\n",
    "A^{[1]}=g^{[1]}\\left(Z^{[1]}\\right) \\\\\n",
    "Z^{[2]}=W^{[2]} A^{[1]}+b^{[2]} \\\\\n",
    "A^{[2]}=g^{[2]}\\left(Z^{[2]}\\right)=\\sigma\\left(Z^{[2]}\\right)\n",
    "\\end{array}\n",
    "$  \n",
    "\n",
    "Back propagation:  \n",
    "<img src=\"images/backpropagation.png\" width=\"600\">"
   ]
  },
  {
   "attachments": {},
   "cell_type": "markdown",
   "metadata": {},
   "source": [
    "### backpropagation intuition\n",
    "\n",
    "we are going to go over some intuition using the computation graph for how those equations were derived.  \n",
    "\n",
    "- logistic regression:  \n",
    "    \n",
    "  forward propagation  \n",
    "  <img src=\"images/logisticregression.png\" width=\"600\">  \n",
    "\n",
    "  back propagation  \n",
    "  <img src=\"images/bp.png\" width=\"600\"> \n"
   ]
  },
  {
   "attachments": {},
   "cell_type": "markdown",
   "metadata": {},
   "source": [
    "<span style=\"color: red\">**&#x2460;**</span> : $\\quad d a=\\frac{d \\mathcal{L}(a, y)}{d a}=-\\frac{y}{a}+\\frac{1-y}{1-a}$  \n",
    "<span style=\"color: red\">**&#x2461;**</span> : $\\quad d z=\\frac{d L(a, y)}{d z}=\\frac{d L(a, y)}{d a} \\cdot \\frac{d a}{d z}=a-y$  \n",
    "<span style=\"color: red\">**&#x2462;**</span> : $\\quad d w=\\frac{d L(a, y)}{d w}=\\frac{d L(a, y)}{d a} \\cdot \\frac{d a}{d z} \\cdot \\frac{d z}{d w}=x \\cdot d z$  \n",
    "$ \\qquad \\  \\  d b=\\frac{d L(a, y)}{d b}=\\frac{d L(a, y)}{d a} \\cdot \\frac{d a}{d z} \\cdot \\frac{d z}{d b}=d z $  \n",
    "\n",
    "In supervised learning, we do not bother optimize x."
   ]
  },
  {
   "attachments": {},
   "cell_type": "markdown",
   "metadata": {},
   "source": [
    "<img src=\"images/2layernn.png\" width=\"800\">  \n",
    "<img src=\"images/2layernnback.png\" width=\"800\"> "
   ]
  },
  {
   "attachments": {},
   "cell_type": "markdown",
   "metadata": {},
   "source": [
    "<span style=\"color: navy\">**&#x2461;**</span>: $d z^{[2]}=a^{[2]}-y $  \n",
    "<span style=\"color: navy\">**&#x2462;**</span>: $d W^{[2]}=d z^{[2]} a^{[1]T} , \\  d b^{[2]}=d z^{[2]} $  \n",
    "<span style=\"color: navy\">**&#x2464;**</span>: $d z^{[1]}=W^{[2] T} d z^{[2]} * g^{[1]\\prime} \\left(z^{[1]}\\right) $  \n",
    "<span style=\"color: navy\">**&#x2465;**</span>: $d W^{[1]}=d z^{[1]} x^T , \\  d b^{[1]}=d z^{[1]}$  "
   ]
  },
  {
   "attachments": {},
   "cell_type": "markdown",
   "metadata": {},
   "source": [
    "So, the vectorization summary of above process is show as following:  \n",
    "\n",
    "<img src=\"images/sumvec2layernn.png\" width=\"400\">"
   ]
  },
  {
   "cell_type": "code",
   "execution_count": 29,
   "metadata": {},
   "outputs": [
    {
     "name": "stdout",
     "output_type": "stream",
     "text": [
      "(4, 1)\n"
     ]
    }
   ],
   "source": [
    "A = np.random.randn(4,3)\n",
    "\n",
    "B = np.sum(A, axis = 1, keepdims = True) \n",
    "\n",
    "print(B.shape)"
   ]
  }
 ],
 "metadata": {
  "kernelspec": {
   "display_name": "Python 3",
   "language": "python",
   "name": "python3"
  },
  "language_info": {
   "codemirror_mode": {
    "name": "ipython",
    "version": 3
   },
   "file_extension": ".py",
   "mimetype": "text/x-python",
   "name": "python",
   "nbconvert_exporter": "python",
   "pygments_lexer": "ipython3",
   "version": "3.9.13"
  },
  "orig_nbformat": 4
 },
 "nbformat": 4,
 "nbformat_minor": 2
}
